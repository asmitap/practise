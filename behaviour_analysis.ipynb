{
 "cells": [
  {
   "cell_type": "code",
   "execution_count": 1,
   "id": "8c6076ef",
   "metadata": {},
   "outputs": [
    {
     "name": "stdout",
     "output_type": "stream",
     "text": [
      "         id  symbol     rate       wacc  transaction  quantity  net_quantity  \\\n",
      "0       518    AHPC    93.00    93.3441          NaN      1000           NaN   \n",
      "1       519   RADHI   169.25   169.9270          NaN       123           NaN   \n",
      "2       520   GGBSL   774.40   777.2653          NaN       100           NaN   \n",
      "3       521    ILBS   721.17   723.8383          NaN       241           NaN   \n",
      "4       522    MERO   621.22   623.5185          NaN       115           NaN   \n",
      "...     ...     ...      ...        ...          ...       ...           ...   \n",
      "2904  12728   NESDO  2082.10  2089.8038          NaN       200           NaN   \n",
      "2905  12727   HIDCL   198.05   198.7828          NaN      1210           NaN   \n",
      "2906   9812    NICA   703.00   705.6011          NaN       500           NaN   \n",
      "2907   9813  SANIMA   237.00   237.8769          NaN       500           NaN   \n",
      "2908  23455     NTC   897.00   900.3189          NaN       100           NaN   \n",
      "\n",
      "         amount                           date transaction_type stock_type  \\\n",
      "0      93000.00  2023-02-10 18:34:44.698 +0545             SELL     NORMAL   \n",
      "1      20817.75  2023-02-10 18:34:45.142 +0545             SELL     NORMAL   \n",
      "2      77440.00  2023-02-10 18:35:08.998 +0545             SELL     NORMAL   \n",
      "3     173801.97  2023-02-10 18:35:09.457 +0545             SELL     NORMAL   \n",
      "4      71440.30  2023-02-10 18:35:09.917 +0545             SELL     NORMAL   \n",
      "...         ...                            ...              ...        ...   \n",
      "2904  416420.00  2023-06-18 16:17:01.739 +0545              BUY     NORMAL   \n",
      "2905  239640.50  2023-06-18 16:17:01.700 +0545              BUY     NORMAL   \n",
      "2906  351500.00  2023-05-25 20:01:56.573 +0545              BUY     NORMAL   \n",
      "2907  118500.00  2023-05-25 20:01:56.587 +0545              BUY     NORMAL   \n",
      "2908   89700.00  2023-07-09 16:16:00.248 +0545             SELL     NORMAL   \n",
      "\n",
      "     transaction_date  commission      cgt  profit_loss  net_profit_loss  \\\n",
      "0           8/17/2020    344.1000   0.0000   -5362.6000       -5706.7000   \n",
      "1           8/17/2020     83.2710  26.8724     441.5700         331.4266   \n",
      "2           8/19/2020    286.5280   0.0000   -1721.8200       -2008.3480   \n",
      "3           8/19/2020    643.0673   0.0000    -340.7017        -983.7690   \n",
      "4           8/19/2020    264.3291   0.0000   -2432.0200       -2696.3491   \n",
      "...               ...         ...      ...          ...              ...   \n",
      "2904        6/18/2023   1540.7540      NaN          NaN              NaN   \n",
      "2905        6/18/2023    886.6699      NaN          NaN              NaN   \n",
      "2906        5/14/2023   1300.5500      NaN          NaN              NaN   \n",
      "2907        5/14/2023    438.4500      NaN          NaN              NaN   \n",
      "2908         7/9/2023    331.8900   0.0000   -2447.6000       -2779.4900   \n",
      "\n",
      "      net_receiveable_amount  profit_loss_percentage  port_id  user_id  \n",
      "0                 92655.9000                   -0.06       87     2056  \n",
      "1                 20707.6066                    0.02       87     2056  \n",
      "2                 77153.4720                   -0.03       87     2056  \n",
      "3                173158.9027                   -0.01       87     2056  \n",
      "4                 71175.9709                   -0.04       87     2056  \n",
      "...                      ...                     ...      ...      ...  \n",
      "2904             417960.7540                     NaN      851    33387  \n",
      "2905             240527.1699                     NaN      851    33387  \n",
      "2906             352800.5500                     NaN      851    33387  \n",
      "2907             118938.4500                     NaN      851    33387  \n",
      "2908              89368.1100                   -0.03      851    33387  \n",
      "\n",
      "[2909 rows x 20 columns]\n"
     ]
    }
   ],
   "source": [
    "import pandas as pd\n",
    "import numpy as np\n",
    "\n",
    "# read csv file\n",
    "df = pd.read_csv(\"behaviour.csv\")\n",
    "print(df)"
   ]
  },
  {
   "cell_type": "code",
   "execution_count": 2,
   "id": "334b02ec",
   "metadata": {},
   "outputs": [
    {
     "name": "stdout",
     "output_type": "stream",
     "text": [
      "symbol     451\n",
      "user_id    451\n",
      "dtype: int64\n"
     ]
    }
   ],
   "source": [
    "unique_values = df[['symbol', 'user_id']].drop_duplicates()\n",
    "print(unique_values.count())"
   ]
  },
  {
   "cell_type": "markdown",
   "id": "140c0f87",
   "metadata": {},
   "source": [
    "## Average Days Between Each Trade /Average Holding Period"
   ]
  },
  {
   "cell_type": "code",
   "execution_count": 3,
   "id": "8b431b41",
   "metadata": {},
   "outputs": [
    {
     "name": "stdout",
     "output_type": "stream",
     "text": [
      "     user_id  symbol        Days\n",
      "0       2056  ACLBSL   13.714286\n",
      "1       2056    ADLB    3.000000\n",
      "2       2056    AHPC  344.250000\n",
      "3       2056     AIL    3.000000\n",
      "4       2056   AKJCL   20.000000\n",
      "..       ...     ...         ...\n",
      "356    33387    SSHL    9.500000\n",
      "357    33387     STC   11.000000\n",
      "358    33387    SWMF    4.000000\n",
      "359    33387     TRH   11.750000\n",
      "360    33387   UNHPL    6.000000\n",
      "\n",
      "[361 rows x 3 columns]\n"
     ]
    }
   ],
   "source": [
    "# according to user_id and symbol \n",
    "def average_days_btn_trade(df):\n",
    "    # Convert the 'transaction_date' column to datetime\n",
    "    df['transaction_date'] = pd.to_datetime(df['transaction_date'])\n",
    "    # Filter the DataFrame to keep only the SELL transactions\n",
    "    sell_df = df[df['transaction_type'] == 'SELL']\n",
    "    # Calculate the difference in days between the most recent BUY and the SELL transactions\n",
    "    result = []\n",
    "    for (user_id, symbol), symbol_sell_df in sell_df.groupby(['user_id', 'symbol']):\n",
    "        for index, sell_row in symbol_sell_df.iterrows():\n",
    "            buy_rows = df[(df['transaction_type'] == 'BUY') & (df['user_id'] == user_id) & (df['symbol'] == symbol) & (df['transaction_date'] < sell_row['transaction_date'])]\n",
    "            if not buy_rows.empty:\n",
    "                most_recent_buy = buy_rows.iloc[-1]\n",
    "                days = (sell_row['transaction_date'] - most_recent_buy['transaction_date']).days\n",
    "                result.append({'user_id': user_id, 'symbol': symbol, 'Buy_Date': most_recent_buy['transaction_date'], 'Sell_Date': sell_row['transaction_date'], 'Days': days})\n",
    "    result_df = pd.DataFrame(result)\n",
    "    # Calculate the average days grouped by User_ID and Symbol\n",
    "    average_days_by_user_symbol = result_df.groupby(['user_id', 'symbol'])['Days'].mean().reset_index()\n",
    "    return average_days_by_user_symbol\n",
    "average_days_by_user_symbol = average_days_btn_trade(df)\n",
    "print(average_days_by_user_symbol)"
   ]
  },
  {
   "cell_type": "markdown",
   "id": "cf810914",
   "metadata": {},
   "source": [
    "## Average Profit in Each Trade"
   ]
  },
  {
   "cell_type": "code",
   "execution_count": 4,
   "id": "fa8fe521",
   "metadata": {},
   "outputs": [
    {
     "name": "stdout",
     "output_type": "stream",
     "text": [
      "     user_id  symbol  avg_profit_in_each_trade\n",
      "0       2056  ACLBSL                   -0.0400\n",
      "1       2056    ADLB                    0.1800\n",
      "2       2056    AHPC                    0.0975\n",
      "3       2056     AIL                    0.0600\n",
      "4       2056   AKBSL                       NaN\n",
      "..       ...     ...                       ...\n",
      "446    33387    SSHL                   -0.0700\n",
      "447    33387     STC                   -0.0250\n",
      "448    33387    SWMF                   -0.0200\n",
      "449    33387     TRH                   -0.0350\n",
      "450    33387   UNHPL                   -0.0600\n",
      "\n",
      "[451 rows x 3 columns]\n"
     ]
    }
   ],
   "source": [
    "# according to user_id and symbol \n",
    "def calculate_average_profit(df):\n",
    "    result = []\n",
    "    # Calculate metrics for each user-stock combination\n",
    "    for (user, stock), group in df.groupby(['user_id', 'symbol']):\n",
    "        avg_profit_in_each_trade = group['profit_loss_percentage'].mean()\n",
    "        result.append({'user_id': user, 'symbol': stock, 'avg_profit_in_each_trade': avg_profit_in_each_trade})\n",
    "    result_df = pd.DataFrame(result)\n",
    "    return result_df\n",
    "average_profit = calculate_average_profit(df)\n",
    "print(average_profit)"
   ]
  },
  {
   "cell_type": "markdown",
   "id": "e3f0f687",
   "metadata": {},
   "source": [
    "## Average Cummulative Profit"
   ]
  },
  {
   "cell_type": "code",
   "execution_count": 5,
   "id": "63ba3b7a",
   "metadata": {},
   "outputs": [
    {
     "name": "stdout",
     "output_type": "stream",
     "text": [
      "     user_id  symbol  average_cumulative_profit\n",
      "0       2056  ACLBSL                  -0.128571\n",
      "1       2056    ADLB                   0.180000\n",
      "2       2056    AHPC                   0.112500\n",
      "3       2056     AIL                   0.060000\n",
      "4       2056   AKBSL                        NaN\n",
      "..       ...     ...                        ...\n",
      "446    33387    SSHL                  -0.162500\n",
      "447    33387     STC                  -0.020000\n",
      "448    33387    SWMF                  -0.020000\n",
      "449    33387     TRH                  -0.135000\n",
      "450    33387   UNHPL                  -0.060000\n",
      "\n",
      "[451 rows x 3 columns]\n"
     ]
    }
   ],
   "source": [
    "def calculate_average_cumulative_profit(df):\n",
    "    grouped_data = df.groupby(['user_id', 'symbol'])\n",
    "    # Calculate metrics for each user-stock combination\n",
    "    result = []\n",
    "    # Calculate metrics for each user-stock combination\n",
    "    for (user, stock), group in grouped_data:\n",
    "        average_cumulative_profit = group['profit_loss_percentage'].cumsum().mean()\n",
    "        result.append({'user_id': user, 'symbol': stock, 'average_cumulative_profit': average_cumulative_profit})\n",
    "    result_df = pd.DataFrame(result)\n",
    "    return result_df\n",
    "average_cumulative_profit = calculate_average_cumulative_profit(df)\n",
    "print(average_cumulative_profit)\n"
   ]
  },
  {
   "cell_type": "markdown",
   "id": "082a2708",
   "metadata": {},
   "source": [
    "## Average Success Rate"
   ]
  },
  {
   "cell_type": "code",
   "execution_count": 6,
   "id": "41122c44",
   "metadata": {},
   "outputs": [
    {
     "name": "stdout",
     "output_type": "stream",
     "text": [
      "     user_id  symbol  sucess_rate\n",
      "0       2056  ACLBSL     7.142857\n",
      "1       2056    ADLB    50.000000\n",
      "2       2056    AHPC    42.857143\n",
      "3       2056     AIL    50.000000\n",
      "4       2056   AKBSL     0.000000\n",
      "..       ...     ...          ...\n",
      "446    33387    SSHL     0.000000\n",
      "447    33387     STC    25.000000\n",
      "448    33387    SWMF     0.000000\n",
      "449    33387     TRH    12.500000\n",
      "450    33387   UNHPL     0.000000\n",
      "\n",
      "[451 rows x 3 columns]\n"
     ]
    }
   ],
   "source": [
    "def calculate_average_success_rate(df):\n",
    "    grouped_data = df.groupby(['user_id', 'symbol'])\n",
    "    # Calculate metrics for each user-stock combination\n",
    "    result = []\n",
    "    # Calculate metrics for each user-stock combination\n",
    "    for (user, stock), group in grouped_data:\n",
    "        successful_trades = group[group['profit_loss_percentage'] > 0]\n",
    "        sucess_rate = (len(successful_trades) / len(group)) * 100\n",
    "        \n",
    "        result.append({'user_id': user, 'symbol': stock, 'sucess_rate': sucess_rate})\n",
    "    result_df = pd.DataFrame(result)\n",
    "    return result_df\n",
    "average_success_rate = calculate_average_success_rate(df)\n",
    "print(average_success_rate)"
   ]
  },
  {
   "cell_type": "markdown",
   "id": "ccfd70d1",
   "metadata": {},
   "source": [
    "## Sharpe Ratio"
   ]
  },
  {
   "cell_type": "code",
   "execution_count": 7,
   "id": "e90943c7",
   "metadata": {},
   "outputs": [
    {
     "name": "stdout",
     "output_type": "stream",
     "text": [
      "     user_id  symbol  sharpe_ratio\n",
      "0       2056  ACLBSL    -12.615780\n",
      "1       2056    ADLB           NaN\n",
      "2       2056    AHPC     11.402528\n",
      "3       2056     AIL           NaN\n",
      "4       2056   AKBSL           NaN\n",
      "..       ...     ...           ...\n",
      "446    33387    SSHL    -35.139721\n",
      "447    33387     STC     -8.017837\n",
      "448    33387    SWMF           NaN\n",
      "449    33387     TRH    -11.263348\n",
      "450    33387   UNHPL           NaN\n",
      "\n",
      "[451 rows x 3 columns]\n"
     ]
    }
   ],
   "source": [
    "# Create a function to calculate Sharpe ratio for a given group\n",
    "def calculate_sharpe_ratio(df):\n",
    "    grouped_data = df.groupby(['user_id', 'symbol'])\n",
    "    result = []\n",
    "    for (user_id, symbol), group in grouped_data:\n",
    "        daily_returns = group['profit_loss_percentage']\n",
    "        mean_daily_return = daily_returns.mean()\n",
    "        std_dev_daily_return = daily_returns.std()\n",
    "        # Check if std_dev_daily_return is zero\n",
    "        if std_dev_daily_return == 0:\n",
    "            sharpe_ratio = np.nan  # Set to NaN or any other default value\n",
    "        else:\n",
    "            sharpe_ratio = (mean_daily_return / std_dev_daily_return) * np.sqrt(252)  # Assuming 252 trading days in a year\n",
    "        result.append({'user_id': user_id, 'symbol': symbol, 'sharpe_ratio': sharpe_ratio})\n",
    "    return pd.DataFrame(result)\n",
    "\n",
    "sharpe_ratios = calculate_sharpe_ratio(df)\n",
    "print(sharpe_ratios)"
   ]
  },
  {
   "cell_type": "markdown",
   "id": "697b9fa2",
   "metadata": {},
   "source": [
    "## Profitable Trades"
   ]
  },
  {
   "cell_type": "code",
   "execution_count": 8,
   "id": "89308aee",
   "metadata": {},
   "outputs": [
    {
     "name": "stdout",
     "output_type": "stream",
     "text": [
      "     user_id  symbol  Percentage_Profitable_Trades\n",
      "0       2056  ACLBSL                      7.142857\n",
      "1       2056    ADLB                     50.000000\n",
      "2       2056    AHPC                     42.857143\n",
      "3       2056     AIL                     50.000000\n",
      "4       2056   AKBSL                      0.000000\n",
      "..       ...     ...                           ...\n",
      "446    33387    SSHL                      0.000000\n",
      "447    33387     STC                     25.000000\n",
      "448    33387    SWMF                      0.000000\n",
      "449    33387     TRH                     12.500000\n",
      "450    33387   UNHPL                      0.000000\n",
      "\n",
      "[451 rows x 3 columns]\n"
     ]
    }
   ],
   "source": [
    "#percentage_profitable_trades = (df['profit_loss'] > 0).mean() * 100\n",
    "def profitable_trades(df):\n",
    "    # Group transactions by 'symbol' and 'user_id' and calculate the percentage of profitable trades for each combination\n",
    "    profitable_trades_by_symbol_user = df.groupby(['user_id','symbol'])['profit_loss'].apply(lambda x: (x > 0).mean() * 100).reset_index()\n",
    "    # Rename the columns for clarity\n",
    "    profitable_trades_by_symbol_user.columns = ['user_id','symbol', 'Percentage_Profitable_Trades']\n",
    "    # Print the result\n",
    "    return profitable_trades_by_symbol_user\n",
    "profitable_trade = profitable_trades(df)\n",
    "print(profitable_trade)"
   ]
  },
  {
   "cell_type": "code",
   "execution_count": 9,
   "id": "84dd566a",
   "metadata": {},
   "outputs": [
    {
     "name": "stdout",
     "output_type": "stream",
     "text": [
      "     user_id  symbol  avg_profit_in_each_trade_x  average_cumulative_profit_x  \\\n",
      "0       2056  ACLBSL                     -0.0400                    -0.128571   \n",
      "1       2056    ADLB                      0.1800                     0.180000   \n",
      "2       2056    AHPC                      0.0975                     0.112500   \n",
      "3       2056     AIL                      0.0600                     0.060000   \n",
      "4       2056   AKBSL                         NaN                          NaN   \n",
      "..       ...     ...                         ...                          ...   \n",
      "446    33387    SSHL                     -0.0700                    -0.162500   \n",
      "447    33387     STC                     -0.0250                    -0.020000   \n",
      "448    33387    SWMF                     -0.0200                    -0.020000   \n",
      "449    33387     TRH                     -0.0350                    -0.135000   \n",
      "450    33387   UNHPL                     -0.0600                    -0.060000   \n",
      "\n",
      "     avg_profit_in_each_trade_y  average_cumulative_profit_y  sucess_rate  \\\n",
      "0                       -0.0400                    -0.128571     7.142857   \n",
      "1                        0.1800                     0.180000    50.000000   \n",
      "2                        0.0975                     0.112500    42.857143   \n",
      "3                        0.0600                     0.060000    50.000000   \n",
      "4                           NaN                          NaN     0.000000   \n",
      "..                          ...                          ...          ...   \n",
      "446                     -0.0700                    -0.162500     0.000000   \n",
      "447                     -0.0250                    -0.020000    25.000000   \n",
      "448                     -0.0200                    -0.020000     0.000000   \n",
      "449                     -0.0350                    -0.135000    12.500000   \n",
      "450                     -0.0600                    -0.060000     0.000000   \n",
      "\n",
      "     sharpe_ratio  Percentage_Profitable_Trades  \n",
      "0      -12.615780                      7.142857  \n",
      "1             NaN                     50.000000  \n",
      "2       11.402528                     42.857143  \n",
      "3             NaN                     50.000000  \n",
      "4             NaN                      0.000000  \n",
      "..            ...                           ...  \n",
      "446    -35.139721                      0.000000  \n",
      "447     -8.017837                     25.000000  \n",
      "448           NaN                      0.000000  \n",
      "449    -11.263348                     12.500000  \n",
      "450           NaN                      0.000000  \n",
      "\n",
      "[451 rows x 9 columns]\n"
     ]
    }
   ],
   "source": [
    "dfs = [average_profit,average_cumulative_profit,average_profit,average_cumulative_profit,average_success_rate, sharpe_ratios,profitable_trade]\n",
    "#dfs = [average_days_by_user_symbol,average_profit,average_cumulative_profit,average_profit,average_cumulative_profit,average_success_rate, sharpe_ratios,profitable_trade]\n",
    "\n",
    "merged_df = dfs[0]\n",
    "for df in dfs[1:]:\n",
    "    merged_df = merged_df.merge(df, on=['user_id', 'symbol'], how='inner')\n",
    "print(merged_df)"
   ]
  },
  {
   "cell_type": "code",
   "execution_count": null,
   "id": "a46e0608",
   "metadata": {},
   "outputs": [],
   "source": []
  }
 ],
 "metadata": {
  "kernelspec": {
   "display_name": "Python 3 (ipykernel)",
   "language": "python",
   "name": "python3"
  },
  "language_info": {
   "codemirror_mode": {
    "name": "ipython",
    "version": 3
   },
   "file_extension": ".py",
   "mimetype": "text/x-python",
   "name": "python",
   "nbconvert_exporter": "python",
   "pygments_lexer": "ipython3",
   "version": "3.11.4"
  }
 },
 "nbformat": 4,
 "nbformat_minor": 5
}
